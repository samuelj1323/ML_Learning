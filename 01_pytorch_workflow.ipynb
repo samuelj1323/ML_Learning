{
  "nbformat": 4,
  "nbformat_minor": 0,
  "metadata": {
    "colab": {
      "provenance": [],
      "authorship_tag": "ABX9TyOPcEXqpn3oBjsWWLAj5yt5",
      "include_colab_link": true
    },
    "kernelspec": {
      "name": "python3",
      "display_name": "Python 3"
    },
    "language_info": {
      "name": "python"
    }
  },
  "cells": [
    {
      "cell_type": "markdown",
      "metadata": {
        "id": "view-in-github",
        "colab_type": "text"
      },
      "source": [
        "<a href=\"https://colab.research.google.com/github/samuelj1323/ML_Learning/blob/main/01_pytorch_workflow.ipynb\" target=\"_parent\"><img src=\"https://colab.research.google.com/assets/colab-badge.svg\" alt=\"Open In Colab\"/></a>"
      ]
    },
    {
      "cell_type": "markdown",
      "source": [
        "### Pytorch workflow\n",
        "\n",
        "Let's explore an example pytorch end to end flow.\n",
        "\n",
        "Resources:\n",
        "* Ground truth notebook https://github.com/mrdbourke/pytorch-deep-learning\n",
        "* Book version: https://www.learnpytorch.io/01_pytorch_workflow/\n",
        "\n"
      ],
      "metadata": {
        "id": "fGO6oQloT7ul"
      }
    },
    {
      "cell_type": "code",
      "source": [
        "what_were_covering = {\n",
        "    1: \"data (prepare and load)\",\n",
        "    2: \"build model\",\n",
        "    3: \"fitting the model (training)\",\n",
        "    4: \"making predictions and evaluating a model (inference)\",\n",
        "    5: \"saving and loading a model\",\n",
        "    6: \"putting it al together\"\n",
        "}"
      ],
      "metadata": {
        "id": "TUBgsA6uWpOs"
      },
      "execution_count": 1,
      "outputs": []
    },
    {
      "cell_type": "code",
      "source": [
        "import torch\n",
        "from torch import nn # nn contains all of PyTorch's building blocks for Neural networks\n",
        "import matplotlib.pyplot as plt\n",
        "\n",
        "#Check pytorch version\n",
        "torch.__version__"
      ],
      "metadata": {
        "colab": {
          "base_uri": "https://localhost:8080/",
          "height": 35
        },
        "id": "d8RMfGAsXF8f",
        "outputId": "e54f22e5-7efd-4874-b42b-92acfa36f61c"
      },
      "execution_count": 2,
      "outputs": [
        {
          "output_type": "execute_result",
          "data": {
            "text/plain": [
              "'2.1.0+cu118'"
            ],
            "application/vnd.google.colaboratory.intrinsic+json": {
              "type": "string"
            }
          },
          "metadata": {},
          "execution_count": 2
        }
      ]
    },
    {
      "cell_type": "markdown",
      "source": [
        "# 1. Data (preparing and loading )\n",
        "Data can be almost anything ... in machine learning\n",
        "* excel spreadsheet\n",
        "* Images\n",
        "* Videos (youtube has lots of data.. )\n",
        "* Audio\n",
        "* DNA\n",
        "* Text\n",
        "\n",
        "Machine learning is a game of two parts:\n",
        "1. Get data into a numerical representation\n",
        "2. Build a model to learn patterns int that numerical representation.\n",
        "\n",
        "To showcase this, let's create some *known* using the linear regression formula.\n",
        "\n",
        "We'll use a linear regression formula to make a straight line with known parameters"
      ],
      "metadata": {
        "id": "_ps-eMFQXjvM"
      }
    },
    {
      "cell_type": "code",
      "source": [
        "# Create *known* parameters\n",
        "weight = 0.7\n",
        "bias = 0.3\n",
        "\n",
        "# Create\n",
        "start = 0\n",
        "end = 1\n",
        "step = 0.02\n",
        "X = torch.arange(start, end, step).unsqueeze(dim=1)\n",
        "y = weight * X + bias\n",
        "\n",
        "X[:10], y[:10], len(X), len(y)"
      ],
      "metadata": {
        "colab": {
          "base_uri": "https://localhost:8080/"
        },
        "id": "GOLKGgF_Xvft",
        "outputId": "d6cf0140-c1c3-4c61-8651-bb94df7f2aa3"
      },
      "execution_count": 3,
      "outputs": [
        {
          "output_type": "execute_result",
          "data": {
            "text/plain": [
              "(tensor([[0.0000],\n",
              "         [0.0200],\n",
              "         [0.0400],\n",
              "         [0.0600],\n",
              "         [0.0800],\n",
              "         [0.1000],\n",
              "         [0.1200],\n",
              "         [0.1400],\n",
              "         [0.1600],\n",
              "         [0.1800]]),\n",
              " tensor([[0.3000],\n",
              "         [0.3140],\n",
              "         [0.3280],\n",
              "         [0.3420],\n",
              "         [0.3560],\n",
              "         [0.3700],\n",
              "         [0.3840],\n",
              "         [0.3980],\n",
              "         [0.4120],\n",
              "         [0.4260]]),\n",
              " 50,\n",
              " 50)"
            ]
          },
          "metadata": {},
          "execution_count": 3
        }
      ]
    },
    {
      "cell_type": "markdown",
      "source": [
        "### Splitting data into training and test sets (one of the most important concepts in ML in general)\n",
        "\n",
        "Let's create a training and test set with our data"
      ],
      "metadata": {
        "id": "-IVjbl6QaMpl"
      }
    },
    {
      "cell_type": "code",
      "source": [
        "# Create a train / test split\n",
        "train_split = int(0.8 * len(X))\n",
        "\n",
        "X_train, y_train = X[:train_split], y[:train_split]\n",
        "X_test, y_test = X[train_split: ], y[train_split:]\n",
        "\n",
        "len(X_train), len(y_train), len(X_test), len(y_test)"
      ],
      "metadata": {
        "colab": {
          "base_uri": "https://localhost:8080/"
        },
        "id": "Mgnq6Qlmckba",
        "outputId": "75ee7aad-a100-403a-e61c-6150d00b3d8e"
      },
      "execution_count": 4,
      "outputs": [
        {
          "output_type": "execute_result",
          "data": {
            "text/plain": [
              "(40, 40, 10, 10)"
            ]
          },
          "metadata": {},
          "execution_count": 4
        }
      ]
    },
    {
      "cell_type": "markdown",
      "source": [
        "how might we better visualize our data?\n",
        "\n",
        "This is where the data explorer's moto comes in!\n",
        "\n",
        "\"VISUALIZE, VISUALIZE, VISUALIZE\""
      ],
      "metadata": {
        "id": "mTnTNWHwdJZn"
      }
    },
    {
      "cell_type": "code",
      "source": [
        "def plot_predictions(train_data=X_train,\n",
        "                     train_labels=y_train,\n",
        "                     test_data=X_test,\n",
        "                     test_labels=y_test,\n",
        "                     predictions=None):\n",
        "  \"\"\"Plots training data, test data and compares predicitons\"\"\"\n",
        "  plt.figure(figsize=(10,7))\n",
        "\n",
        "  #Plot training data in blue\n",
        "  plt.scatter(train_data, train_labels, c=\"b\", s=4, label=\"Training data\")\n",
        "\n",
        "  #plot test data in green\n",
        "  plt.scatter(test_data, test_labels, c=\"g\", s=4, label=\"Testing data\")\n",
        "\n",
        "  #Are there predictions\n",
        "  if predictions is not None:\n",
        "    #Plot the predictions if they exist\n",
        "    plt.scatter(test_data, predictions, c=\"r\", s=4, label=\"Predictions\")\n",
        "  # Show the legend\n",
        "  plt.legend(prop={\"size\": 14})\n"
      ],
      "metadata": {
        "id": "Fzi2zYIldnXX"
      },
      "execution_count": 5,
      "outputs": []
    },
    {
      "cell_type": "code",
      "source": [
        "plot_predictions();"
      ],
      "metadata": {
        "colab": {
          "base_uri": "https://localhost:8080/",
          "height": 599
        },
        "id": "MzjqTzmQdXaZ",
        "outputId": "abf6d5a5-fb90-410a-aaf8-dd2d3c874f8b"
      },
      "execution_count": 6,
      "outputs": [
        {
          "output_type": "display_data",
          "data": {
            "text/plain": [
              "<Figure size 1000x700 with 1 Axes>"
            ],
            "image/png": "[encoded data removed]"
          },
          "metadata": {}
        }
      ]
    },
    {
      "cell_type": "markdown",
      "source": [
        "## Building our first pytorch model\n",
        "\n",
        "our first pytorch model\n",
        "\n",
        "What our model does:\n",
        "* Start with random values (weight, bias)\n",
        "* Look at training data and adjust the random values to better represent the ideal values (The weight & bias we used to create the data)\n",
        "\n",
        "How does it do so?\n",
        "Through 2 main algs:\n",
        "1. Gradient descent\n",
        "2. Backpropagation"
      ],
      "metadata": {
        "id": "6W0k_FI1e-vy"
      }
    },
    {
      "cell_type": "code",
      "source": [
        "from torch import nn\n",
        "# Create a linear regression model class\n",
        "class LinearRegressionModel(nn.Module): #<= almost everything in pytorch inherits from nn.Module\n",
        "  def __init__(self):\n",
        "    super().__init__()\n",
        "    self.weights = nn.Parameter(torch.randn(1, requires_grad=True, dtype=torch.float))\n",
        "    self.bias = nn.Parameter(torch.randn(1, requires_grad=True, dtype=torch.float))\n",
        "\n",
        "    #Forward method to define the computation in the model\n",
        "    #Any subclass of nn.Module needs to override the forward()\n",
        "  def forward(self, x: torch.Tensor) -> torch.Tensor: #<- \"x\" is the input data.\n",
        "    return self.weights * x + self.bias #This is the linear regression formula.\n",
        "\n"
      ],
      "metadata": {
        "id": "ni8BycwdcuBM"
      },
      "execution_count": 7,
      "outputs": []
    },
    {
      "cell_type": "markdown",
      "source": [
        "from torch.fx.experimental.symbolic_shapes import method_to_operator\n",
        "### Pytorch model building essentials\n",
        "\n",
        " * torch.nn - contains all the building blocks for computational graphs (neural network)\n",
        " * torch.nn.Parameter - what parameters should your model try and learn, often a pytorch layer from torch.nn will set these for us.\n",
        " * torch.nn.Module - The base class for all neural network modules. If you subclass it, you should overwrite the forward method\n",
        " * torch.optim - This is where the optimizers in pytorch live, they'll help with gradient descent\n",
        " * def forward() - All nn.Module subclasses require you to overwrite forward(), this method defines what happens in the forward computation."
      ],
      "metadata": {
        "id": "FcGV9fv9bnYJ"
      }
    },
    {
      "cell_type": "markdown",
      "source": [
        "### To get data ready the most important modules are:\n",
        "* torchvision.transforms\n",
        "* torch.utils.data.Dataset\n",
        "* torch.utils.data.DataLoader"
      ],
      "metadata": {
        "id": "VDjXrxDiRQIW"
      }
    },
    {
      "cell_type": "markdown",
      "source": [
        "### Checking the contents of our pytorch model\n",
        "\n",
        "now we've created a model, let's see what is inside.\n",
        "\n",
        "So we can check our model parameters or what's inside our model using `.parameters()`"
      ],
      "metadata": {
        "id": "ErOgLlnqPqDS"
      }
    },
    {
      "cell_type": "code",
      "source": [
        "# Create a random seed\n",
        "torch.manual_seed(42)\n",
        "\n",
        "# Create an instance of the model (this is a subclass of NN.module)\n",
        "model_0 = LinearRegressionModel()\n",
        "#Check out the paramters\n",
        "list(model_0.parameters())"
      ],
      "metadata": {
        "colab": {
          "base_uri": "https://localhost:8080/"
        },
        "id": "M5WjQMndSJyh",
        "outputId": "b253c5b2-7760-45be-b7b2-ab87c2b0af23"
      },
      "execution_count": 8,
      "outputs": [
        {
          "output_type": "execute_result",
          "data": {
            "text/plain": [
              "[Parameter containing:\n",
              " tensor([0.3367], requires_grad=True),\n",
              " Parameter containing:\n",
              " tensor([0.1288], requires_grad=True)]"
            ]
          },
          "metadata": {},
          "execution_count": 8
        }
      ]
    },
    {
      "cell_type": "code",
      "source": [
        "# List named parameters\n",
        "model_0.state_dict()"
      ],
      "metadata": {
        "colab": {
          "base_uri": "https://localhost:8080/"
        },
        "id": "QRN8_PAgSjbx",
        "outputId": "fa2ddc2a-168e-4cdc-bac1-aecf0e7a354e"
      },
      "execution_count": 9,
      "outputs": [
        {
          "output_type": "execute_result",
          "data": {
            "text/plain": [
              "OrderedDict([('weights', tensor([0.3367])), ('bias', tensor([0.1288]))])"
            ]
          },
          "metadata": {},
          "execution_count": 9
        }
      ]
    },
    {
      "cell_type": "code",
      "source": [
        "weight, bias"
      ],
      "metadata": {
        "colab": {
          "base_uri": "https://localhost:8080/"
        },
        "id": "LuJrqszpTRIM",
        "outputId": "e43c199e-6491-42c4-968b-f0879332e914"
      },
      "execution_count": 10,
      "outputs": [
        {
          "output_type": "execute_result",
          "data": {
            "text/plain": [
              "(0.7, 0.3)"
            ]
          },
          "metadata": {},
          "execution_count": 10
        }
      ]
    },
    {
      "cell_type": "markdown",
      "source": [
        "### making predictions using `torch.inference_mode()`\n",
        "\n",
        "To check our model's predictive power, let's see how ell it predicts `y_test` based on `X_test`.\n",
        "\n",
        "When we pass data through our model, it's going to run it through the `forward` method\n"
      ],
      "metadata": {
        "id": "oqKZR2hnTdH3"
      }
    },
    {
      "cell_type": "code",
      "source": [
        "#make predictions with model\n",
        "with torch.inference_mode():\n",
        "  y_preds = model_0(X_test)\n",
        "\n",
        "y_preds"
      ],
      "metadata": {
        "colab": {
          "base_uri": "https://localhost:8080/"
        },
        "id": "ZEAX5uMgSfvE",
        "outputId": "4a1f4306-3b83-4338-801c-1ec43062f4f6"
      },
      "execution_count": 11,
      "outputs": [
        {
          "output_type": "execute_result",
          "data": {
            "text/plain": [
              "tensor([[0.3982],\n",
              "        [0.4049],\n",
              "        [0.4116],\n",
              "        [0.4184],\n",
              "        [0.4251],\n",
              "        [0.4318],\n",
              "        [0.4386],\n",
              "        [0.4453],\n",
              "        [0.4520],\n",
              "        [0.4588]])"
            ]
          },
          "metadata": {},
          "execution_count": 11
        }
      ]
    },
    {
      "cell_type": "code",
      "source": [
        "y_test"
      ],
      "metadata": {
        "colab": {
          "base_uri": "https://localhost:8080/"
        },
        "id": "GNwWl3CZScpU",
        "outputId": "25adb64e-e9d7-4c52-f77e-c383d6973bea"
      },
      "execution_count": 12,
      "outputs": [
        {
          "output_type": "execute_result",
          "data": {
            "text/plain": [
              "tensor([[0.8600],\n",
              "        [0.8740],\n",
              "        [0.8880],\n",
              "        [0.9020],\n",
              "        [0.9160],\n",
              "        [0.9300],\n",
              "        [0.9440],\n",
              "        [0.9580],\n",
              "        [0.9720],\n",
              "        [0.9860]])"
            ]
          },
          "metadata": {},
          "execution_count": 12
        }
      ]
    },
    {
      "cell_type": "code",
      "source": [
        "plot_predictions(predictions=y_preds)"
      ],
      "metadata": {
        "colab": {
          "base_uri": "https://localhost:8080/",
          "height": 599
        },
        "id": "suSvCLQ3juan",
        "outputId": "1054a5c6-5b02-46af-aa36-ee02d8fd68d1"
      },
      "execution_count": 13,
      "outputs": [
        {
          "output_type": "display_data",
          "data": {
            "text/plain": [
              "<Figure size 1000x700 with 1 Axes>"
            ],
            "image/png": "[encoded data removed]"
          },
          "metadata": {}
        }
      ]
    },
    {
      "cell_type": "markdown",
      "source": [
        "## 3. Train model\n",
        "The whole idea of training is for a model to move from some *unknown* (these may be random) to some *known* Parameters\n",
        "\n",
        "or from some poor representation of the date to a better representation of the data\n",
        "\n",
        "One way to measure how poor or how wrong your models predictions are is to use a loss function.\n",
        "\n",
        "You might see a loss function refered to as a criterion, or cost function\n",
        "\n",
        "Things we need to train:\n",
        "\n",
        "\n",
        "* **Loss function** IS a function to measure how wrong your model's predictions are to the ideal outputs. lower is better\n",
        "* **Optimizer:** Takes into account the loss of a model and adjusts the model's paramters\n",
        "* **training/testing loop**  "
      ],
      "metadata": {
        "id": "wGgPzfYcjyJX"
      }
    },
    {
      "cell_type": "code",
      "source": [
        " # set up a loss function\n",
        "\n",
        "loss_fn = nn.L1Loss()\n",
        " #setup an optimizer\n",
        "optimizer = torch.optim.SGD(params=model_0.parameters(), lr=0.005)"
      ],
      "metadata": {
        "id": "33ZunjkJmIxS"
      },
      "execution_count": 14,
      "outputs": []
    },
    {
      "cell_type": "markdown",
      "source": [
        "### Building a training and testing loop in pytorch\n",
        "\n",
        "A couple of things we need in a training loop:\n",
        "0. Loop through the data\n",
        "1. forward pass (this involves data moving through our models forward functions)\n",
        "2. Calculate the loss\n",
        "3. Optimizer Zerio grad\n",
        "4. Loss backward\n",
        "5. Optimizer step"
      ],
      "metadata": {
        "id": "VQWVozPNo9iH"
      }
    },
    {
      "cell_type": "code",
      "source": [
        "# an epoch is one loop through the data....\n",
        "torch.manual_seed(42)\n",
        "epochs = 500\n",
        "\n",
        "#Track different values\n",
        "epoch_count = []\n",
        "loss_values = []\n",
        "test_loss_values =[]\n",
        "### Training\n",
        "# 0. loop through the data\n",
        "for epoch in range(epochs):\n",
        "  # Set the model to training mode.\n",
        "  model_0.train() # train mode in pytorch sets all parameters that require gradients to require gradients.\n",
        "  # 1. Forward Pass\n",
        "  y_pred = model_0(X_train)\n",
        "  # 2. Calculate teh loss\n",
        "  loss = loss_fn(y_pred, y_train)\n",
        "  #print(f\"Loss: {loss}\")\n",
        "  # 3. Optimizer zero grad\n",
        "  optimizer.zero_grad()\n",
        "  # 4. Perform back propagation on the loss w/ respect to the parameters of the model.\n",
        "  loss.backward()\n",
        "  # 5. Step the optimizer(perform gradient descent)\n",
        "  optimizer.step() #by default how the optimizer changes will accumulate through the loop so... we have to zero theme above in step 3\n",
        "  ### Testing\n",
        "  model_0.eval() # turns off different settings in the model not needed for eval/ testing (dropout/ batch norm layers)\n",
        "  with torch.inference_mode():# turns off gradient tracking\n",
        "    #1. Do the forward pass\n",
        "    test_pred = model_0(X_test)\n",
        "    #2. Calculate the loss\n",
        "    test_loss = loss_fn(test_pred, y_test)\n",
        "    #Printout what's happening\n",
        "    if epoch % 50 == 0:\n",
        "      epoch_count.append(epoch)\n",
        "      loss_values.append(loss)\n",
        "      test_loss_values.append(test_loss)\n",
        "      print(f\"Epoch: {epoch} | Loss: {loss} | Test loss: {test_loss}\")\n",
        "      print(f\"State Dict: {model_0.state_dict()}\")\n"
      ],
      "metadata": {
        "id": "n2NMTndcyk3J",
        "colab": {
          "base_uri": "https://localhost:8080/"
        },
        "outputId": "10b2fe7e-4606-4f41-bbd9-e91664a7f60b"
      },
      "execution_count": 15,
      "outputs": [
        {
          "output_type": "stream",
          "name": "stdout",
          "text": [
            "Epoch: 0 | Loss: 0.31288138031959534 | Test loss: 0.4878006875514984\n",
            "State Dict: OrderedDict([('weights', tensor([0.3386])), ('bias', tensor([0.1338]))])\n",
            "Epoch: 50 | Loss: 0.06430868804454803 | Test loss: 0.1780700981616974\n",
            "State Dict: OrderedDict([('weights', tensor([0.4344])), ('bias', tensor([0.3583]))])\n",
            "Epoch: 100 | Loss: 0.041651852428913116 | Test loss: 0.10024197399616241\n",
            "State Dict: OrderedDict([('weights', tensor([0.4929])), ('bias', tensor([0.3841]))])\n",
            "Epoch: 150 | Loss: 0.03300347551703453 | Test loss: 0.07681445777416229\n",
            "State Dict: OrderedDict([('weights', tensor([0.5367])), ('bias', tensor([0.3686]))])\n",
            "Epoch: 200 | Loss: 0.024415848776698112 | Test loss: 0.056821130216121674\n",
            "State Dict: OrderedDict([('weights', tensor([0.5793])), ('bias', tensor([0.3506]))])\n",
            "Epoch: 250 | Loss: 0.01582920365035534 | Test loss: 0.036484431475400925\n",
            "State Dict: OrderedDict([('weights', tensor([0.6221])), ('bias', tensor([0.3328]))])\n",
            "Epoch: 300 | Loss: 0.007245116867125034 | Test loss: 0.016491109505295753\n",
            "State Dict: OrderedDict([('weights', tensor([0.6648])), ('bias', tensor([0.3148]))])\n",
            "Epoch: 350 | Loss: 0.001977377338334918 | Test loss: 0.0024690269492566586\n",
            "State Dict: OrderedDict([('weights', tensor([0.6974])), ('bias', tensor([0.3048]))])\n",
            "Epoch: 400 | Loss: 0.001977377338334918 | Test loss: 0.0024690269492566586\n",
            "State Dict: OrderedDict([('weights', tensor([0.6974])), ('bias', tensor([0.3048]))])\n",
            "Epoch: 450 | Loss: 0.001977377338334918 | Test loss: 0.0024690269492566586\n",
            "State Dict: OrderedDict([('weights', tensor([0.6974])), ('bias', tensor([0.3048]))])\n"
          ]
        }
      ]
    },
    {
      "cell_type": "code",
      "source": [
        "import numpy as np"
      ],
      "metadata": {
        "id": "nX_l62Lbm_w4"
      },
      "execution_count": 16,
      "outputs": []
    },
    {
      "cell_type": "code",
      "source": [
        "#Plot the loss curves\n",
        "plt.plot(epoch_count, np.array(torch.tensor(loss_values).cpu().numpy()), label=\"Train loss\")\n",
        "plt.plot(epoch_count, test_loss_values, label=\"Test loss\")\n",
        "plt.title(\"training and test loss curves\")\n",
        "plt.ylabel(\"Loss\")\n",
        "plt.xlabel(\"Epochs\")\n",
        "plt.legend()"
      ],
      "metadata": {
        "colab": {
          "base_uri": "https://localhost:8080/",
          "height": 490
        },
        "id": "JIHXULffm84e",
        "outputId": "2b55680d-3564-4f16-a897-10a21dda8f67"
      },
      "execution_count": 17,
      "outputs": [
        {
          "output_type": "execute_result",
          "data": {
            "text/plain": [
              "<matplotlib.legend.Legend at 0x7a2c90ac7700>"
            ]
          },
          "metadata": {},
          "execution_count": 17
        },
        {
          "output_type": "display_data",
          "data": {
            "text/plain": [
              "<Figure size 640x480 with 1 Axes>"
            ],
            "image/png": "[encoded data removed]"
          },
          "metadata": {}
        }
      ]
    },
    {
      "cell_type": "code",
      "source": [
        "with torch.inference_mode():\n",
        "  y_preds_new = model_0(X_test)"
      ],
      "metadata": {
        "id": "Iv0yVLU3SNKn"
      },
      "execution_count": 18,
      "outputs": []
    },
    {
      "cell_type": "markdown",
      "source": [],
      "metadata": {
        "id": "WjPK4GERmqwD"
      }
    },
    {
      "cell_type": "code",
      "source": [
        "model_0.state_dict()"
      ],
      "metadata": {
        "id": "kWGkr4M03UMN",
        "outputId": "e83853a6-8cbc-4c0c-c00c-5d282f182cd1",
        "colab": {
          "base_uri": "https://localhost:8080/"
        }
      },
      "execution_count": 19,
      "outputs": [
        {
          "output_type": "execute_result",
          "data": {
            "text/plain": [
              "OrderedDict([('weights', tensor([0.6954])), ('bias', tensor([0.2998]))])"
            ]
          },
          "metadata": {},
          "execution_count": 19
        }
      ]
    },
    {
      "cell_type": "code",
      "source": [
        "weight, bias"
      ],
      "metadata": {
        "colab": {
          "base_uri": "https://localhost:8080/"
        },
        "id": "rOuRx8yoRZiA",
        "outputId": "0cfa22e2-c94d-41c9-cebb-4afd0747022a"
      },
      "execution_count": 20,
      "outputs": [
        {
          "output_type": "execute_result",
          "data": {
            "text/plain": [
              "(0.7, 0.3)"
            ]
          },
          "metadata": {},
          "execution_count": 20
        }
      ]
    },
    {
      "cell_type": "code",
      "source": [
        "plot_predictions(predictions=y_preds)"
      ],
      "metadata": {
        "colab": {
          "base_uri": "https://localhost:8080/",
          "height": 599
        },
        "id": "xPJ_8x0DSKck",
        "outputId": "8470d498-1456-471f-e74c-a2b11c1704fd"
      },
      "execution_count": 21,
      "outputs": [
        {
          "output_type": "display_data",
          "data": {
            "text/plain": [
              "<Figure size 1000x700 with 1 Axes>"
            ],
            "image/png": "[encoded data removed]"
          },
          "metadata": {}
        }
      ]
    },
    {
      "cell_type": "code",
      "source": [
        "plot_predictions(predictions=y_preds_new)"
      ],
      "metadata": {
        "colab": {
          "base_uri": "https://localhost:8080/",
          "height": 599
        },
        "id": "6lHvcOxChjSG",
        "outputId": "f84641f9-f113-4732-ace0-d55f6789b59c"
      },
      "execution_count": 22,
      "outputs": [
        {
          "output_type": "display_data",
          "data": {
            "text/plain": [
              "<Figure size 1000x700 with 1 Axes>"
            ],
            "image/png": "[encoded data removed]"
          },
          "metadata": {}
        }
      ]
    },
    {
      "cell_type": "markdown",
      "source": [
        "### Saving a model in pytorch\n",
        "Three main methods:\n",
        "1. `torch.save()` - allows you to save in python pickle format\n",
        "2. `torch.load()` -- allows you to load a mdoel\n",
        "3. `torch.nn.Module.load_state_dict()`- allows you to load a model's state dictionary."
      ],
      "metadata": {
        "id": "B4Xn2bxBiE_K"
      }
    },
    {
      "cell_type": "code",
      "source": [
        "from pathlib import Path\n",
        "# create model dir\n",
        "MODEL_PATH = Path(\"models\")\n",
        "MODEL_PATH.mkdir(parents=True, exist_ok=True)\n",
        "# 2. Create model save path\n",
        "MODEL_NAME = \"01_python_workflow_model_0.pth\"\n",
        "MODEL_SAVE_PATH = MODEL_PATH / MODEL_NAME\n",
        "\n",
        "MODEL_SAVE_PATH\n",
        "#3. save the model state dict\n",
        "print(f\"saving model to {MODEL_SAVE_PATH}\")\n",
        "torch.save(obj=model_0.state_dict(), f=MODEL_SAVE_PATH)"
      ],
      "metadata": {
        "colab": {
          "base_uri": "https://localhost:8080/"
        },
        "id": "enTRbZ6kqjTI",
        "outputId": "e0e45e74-0ca4-408c-b81e-441cbfb2bee2"
      },
      "execution_count": 25,
      "outputs": [
        {
          "output_type": "stream",
          "name": "stdout",
          "text": [
            "saving model to models/01_python_workflow_model_0.pth\n"
          ]
        }
      ]
    },
    {
      "cell_type": "code",
      "source": [
        "!ls -l models"
      ],
      "metadata": {
        "colab": {
          "base_uri": "https://localhost:8080/"
        },
        "id": "18HTFIwQr_t5",
        "outputId": "1588cdce-3ab6-45cc-965a-3ad3e2944f9d"
      },
      "execution_count": 26,
      "outputs": [
        {
          "output_type": "stream",
          "name": "stdout",
          "text": [
            "total 4\n",
            "-rw-r--r-- 1 root root 1674 Dec  2 22:41 01_python_workflow_model_0.pth\n"
          ]
        }
      ]
    },
    {
      "cell_type": "code",
      "source": [
        "# Load in saved  state dict we need new instance of model class\n",
        "\n",
        "\n",
        "loaded_model_0 = LinearRegressionModel()\n",
        "# Load the saved state dict of model_0\n",
        "\n",
        "loaded_model_0.load_state_dict(torch.load(f=MODEL_SAVE_PATH))"
      ],
      "metadata": {
        "colab": {
          "base_uri": "https://localhost:8080/"
        },
        "id": "OUkVGvTisgZ_",
        "outputId": "2a6cbb46-f1cb-4da0-992f-360c5b1359f7"
      },
      "execution_count": 28,
      "outputs": [
        {
          "output_type": "execute_result",
          "data": {
            "text/plain": [
              "<All keys matched successfully>"
            ]
          },
          "metadata": {},
          "execution_count": 28
        }
      ]
    },
    {
      "cell_type": "markdown",
      "source": [],
      "metadata": {
        "id": "lb-DnqpTtiGE"
      }
    },
    {
      "cell_type": "code",
      "source": [
        "loaded_model_0.state_dict()"
      ],
      "metadata": {
        "colab": {
          "base_uri": "https://localhost:8080/"
        },
        "id": "40WlKWpNtF73",
        "outputId": "8a90af02-a6e8-4d6c-e356-c0402e6052b0"
      },
      "execution_count": 30,
      "outputs": [
        {
          "output_type": "execute_result",
          "data": {
            "text/plain": [
              "OrderedDict([('weights', tensor([0.6954])), ('bias', tensor([0.2998]))])"
            ]
          },
          "metadata": {},
          "execution_count": 30
        }
      ]
    },
    {
      "cell_type": "code",
      "source": [
        "loaded_model_0.eval()\n",
        "with torch.inference_mode():\n",
        "  loaded_model_preds = loaded_model_0(X_test)\n",
        "\n",
        "loaded_model_preds"
      ],
      "metadata": {
        "colab": {
          "base_uri": "https://localhost:8080/"
        },
        "id": "2FMPiPlKtidT",
        "outputId": "af33a120-66d9-42af-b17e-5e02992be63c"
      },
      "execution_count": 31,
      "outputs": [
        {
          "output_type": "execute_result",
          "data": {
            "text/plain": [
              "tensor([[0.8561],\n",
              "        [0.8701],\n",
              "        [0.8840],\n",
              "        [0.8979],\n",
              "        [0.9118],\n",
              "        [0.9257],\n",
              "        [0.9396],\n",
              "        [0.9535],\n",
              "        [0.9674],\n",
              "        [0.9813]])"
            ]
          },
          "metadata": {},
          "execution_count": 31
        }
      ]
    },
    {
      "cell_type": "code",
      "source": [
        "# Make some model preds\n",
        "model_0.eval()\n",
        "with torch.inference_mode():\n",
        "  y_preds = model_0(X_test)\n",
        "\n",
        "y_preds"
      ],
      "metadata": {
        "colab": {
          "base_uri": "https://localhost:8080/"
        },
        "id": "rhHjoTG-tvSY",
        "outputId": "9b41f255-016b-41c8-fe1c-f571a1691875"
      },
      "execution_count": 33,
      "outputs": [
        {
          "output_type": "execute_result",
          "data": {
            "text/plain": [
              "tensor([[0.8561],\n",
              "        [0.8701],\n",
              "        [0.8840],\n",
              "        [0.8979],\n",
              "        [0.9118],\n",
              "        [0.9257],\n",
              "        [0.9396],\n",
              "        [0.9535],\n",
              "        [0.9674],\n",
              "        [0.9813]])"
            ]
          },
          "metadata": {},
          "execution_count": 33
        }
      ]
    }
  ]
}